{
 "cells": [
  {
   "cell_type": "code",
   "execution_count": 3,
   "id": "24b3bf30-e78f-4fa6-8000-e594870b2692",
   "metadata": {},
   "outputs": [
    {
     "name": "stdin",
     "output_type": "stream",
     "text": [
      "Masukkan gaji per jam yang Anda inginkan:  50.000\n",
      "Masukkan jumlah jam kerja yang akan dilakukan dalam 1 minggu:  40\n"
     ]
    },
    {
     "name": "stdout",
     "output_type": "stream",
     "text": [
      "\n",
      "--- Hasil Perhitungan Keuangan Budi ---\n",
      "1. Pendapatan sebelum pajak: Rp 10,000.00\n",
      "2. Pendapatan setelah pajak: Rp 8,600.00\n",
      "3. Uang untuk pakaian & aksesoris: Rp 860.00\n",
      "4. Uang untuk alat tulis: Rp 86.00\n",
      "5. Total sedekah: Rp 1,913.50\n",
      "6. Dana untuk anak yatim: Rp 574.05\n",
      "7. Dana untuk kaum dhuafa: Rp 1,339.45\n"
     ]
    }
   ],
   "source": [
    "def hitung_pendapatan():\n",
    "    gaji_per_jam = float(input(\"Masukkan gaji per jam yang Anda inginkan: \"))\n",
    "    jam_kerja_per_minggu = int(input(\"Masukkan jumlah jam kerja yang akan dilakukan dalam 1 minggu: \"))\n",
    "\n",
    "    pendapatan_kotor = gaji_per_jam * jam_kerja_per_minggu * 5\n",
    "    pajak = 0.14 * pendapatan_kotor\n",
    "    pendapatan_bersih = pendapatan_kotor - pajak\n",
    "\n",
    "    belanja_baju = 0.10 * pendapatan_bersih\n",
    "    belanja_alat_tulis = 0.01 * pendapatan_bersih\n",
    "\n",
    "    sisa_uang = pendapatan_bersih - belanja_baju - belanja_alat_tulis\n",
    "    sedekah = 0.25 * sisa_uang\n",
    "\n",
    "    dana_yatim = 0.30 * sedekah\n",
    "    dana_dhuafa = 0.70 * sedekah\n",
    "\n",
    "    print(\"\\n--- Hasil Perhitungan Keuangan Budi ---\")\n",
    "    print(f\"1. Pendapatan sebelum pajak: Rp {pendapatan_kotor:,.2f}\")\n",
    "    print(f\"2. Pendapatan setelah pajak: Rp {pendapatan_bersih:,.2f}\")\n",
    "    print(f\"3. Uang untuk pakaian & aksesoris: Rp {belanja_baju:,.2f}\")\n",
    "    print(f\"4. Uang untuk alat tulis: Rp {belanja_alat_tulis:,.2f}\")\n",
    "    print(f\"5. Total sedekah: Rp {sedekah:,.2f}\")\n",
    "    print(f\"6. Dana untuk anak yatim: Rp {dana_yatim:,.2f}\")\n",
    "    print(f\"7. Dana untuk kaum dhuafa: Rp {dana_dhuafa:,.2f}\")\n",
    "\n",
    "hitung_pendapatan()"
   ]
  },
  {
   "cell_type": "code",
   "execution_count": 8,
   "id": "7af52940-8012-4817-9663-62d576ba16ae",
   "metadata": {},
   "outputs": [
    {
     "name": "stdin",
     "output_type": "stream",
     "text": [
      "Berapa tinggi badan Anda (dalam cm)?  150\n",
      "Berapa nilai BMI yang Anda harapkan?  20\n"
     ]
    },
    {
     "name": "stdout",
     "output_type": "stream",
     "text": [
      "Berat badan yang diperlukan untuk Anda adalah 45 kilogram\n"
     ]
    }
   ],
   "source": [
    "def hitung_berat_badan(tinggi_badan, bmi):\n",
    "    berat_badan = bmi * (tinggi_badan ** 2)\n",
    "    return int(berat_badan)  \n",
    "\n",
    "tinggi_badan_cm = float(input(\"Berapa tinggi badan Anda (dalam cm)? \"))\n",
    "tinggi_badan_m = tinggi_badan_cm / 100  \n",
    "\n",
    "bmi = float(input(\"Berapa nilai BMI yang Anda harapkan? \"))\n",
    "\n",
    "berat_badan = hitung_berat_badan(tinggi_badan_m, bmi)\n",
    "\n",
    "print(\"Berat badan yang diperlukan untuk Anda adalah\", berat_badan, \"kilogram\")"
   ]
  },
  {
   "cell_type": "code",
   "execution_count": 13,
   "id": "ca00fb43-adba-4fc6-9318-ed6b70a3911d",
   "metadata": {},
   "outputs": [
    {
     "name": "stdin",
     "output_type": "stream",
     "text": [
      "Masukkan nilai x:  7\n"
     ]
    },
    {
     "name": "stdout",
     "output_type": "stream",
     "text": [
      "Hasil dari f(7) = 715\n"
     ]
    }
   ],
   "source": [
    "def f(x):\n",
    "    return 2 * (x ** 3) + 2 * x + 15\n",
    "\n",
    "def main():\n",
    "    x = int(input(\"Masukkan nilai x: \"))\n",
    "    hasil = f(x)\n",
    "    print(f\"Hasil dari f({x}) = {hasil}\")\n",
    "\n",
    "if __name__ == \"__main__\":\n",
    "    main()"
   ]
  },
  {
   "cell_type": "code",
   "execution_count": null,
   "id": "faaf2b02-0787-4b7b-8a14-0000b18cafbc",
   "metadata": {},
   "outputs": [],
   "source": []
  }
 ],
 "metadata": {
  "kernelspec": {
   "display_name": "anaconda-panel-2023.05-py310",
   "language": "python",
   "name": "conda-env-anaconda-panel-2023.05-py310-py"
  },
  "language_info": {
   "codemirror_mode": {
    "name": "ipython",
    "version": 3
   },
   "file_extension": ".py",
   "mimetype": "text/x-python",
   "name": "python",
   "nbconvert_exporter": "python",
   "pygments_lexer": "ipython3",
   "version": "3.11.5"
  }
 },
 "nbformat": 4,
 "nbformat_minor": 5
}
